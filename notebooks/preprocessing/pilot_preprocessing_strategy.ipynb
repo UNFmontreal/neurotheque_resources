{
 "cells": [
  {
   "cell_type": "markdown",
   "metadata": {},
   "source": [
    "# Purpose: Demonstrate how to run the pipeline that:\n",
    "    #   1. Loads raw data\n",
    "    #   2. Applies PrepChannels, Filter, ICA, AutoReject, etc.\n",
    "    #   3. Saves the global preprocessed file\n",
    "    #   4. Splits it into tasks and saves each sub-task's .fif\n",
    "\n"
   ]
  },
  {
   "cell_type": "code",
   "execution_count": null,
   "metadata": {},
   "outputs": [],
   "source": [
    "%load_ext autoreload\n",
    "%autoreload 2\n",
    "import sys\n",
    "import os\n",
    "sys.path.insert(0, os.path.abspath(os.path.join('..', '..')))\n",
    "from scr.pipeline import Pipeline\n",
    "from scr.steps import __init__\n",
    "from autoreject import AutoReject\n",
    "config_file = os.path.abspath(os.path.join(\n",
    "    '..', '..', 'configs', 'single_task_preprocessing_strategy.yml'\n",
    "))\n",
    "print(\"Using config file:\", config_file)\n"
   ]
  },
  {
   "cell_type": "code",
   "execution_count": null,
   "metadata": {},
   "outputs": [],
   "source": [
    "# Create a Pipeline instance\n",
    "pipeline = Pipeline(config_file=config_file)\n",
    "# Run the pipeline\n",
    "print(\"Running the pilot preprocessing pipeline...\")\n",
    "pipeline.run()\n",
    "print(\"Pipeline completed successfully.\")\n"
   ]
  }
 ],
 "metadata": {
  "kernelspec": {
   "display_name": "eeg_analysis",
   "language": "python",
   "name": "python3"
  },
  "language_info": {
   "codemirror_mode": {
    "name": "ipython",
    "version": 3
   },
   "file_extension": ".py",
   "mimetype": "text/x-python",
   "name": "python",
   "nbconvert_exporter": "python",
   "pygments_lexer": "ipython3",
   "version": "3.10.15"
  }
 },
 "nbformat": 4,
 "nbformat_minor": 2
}
