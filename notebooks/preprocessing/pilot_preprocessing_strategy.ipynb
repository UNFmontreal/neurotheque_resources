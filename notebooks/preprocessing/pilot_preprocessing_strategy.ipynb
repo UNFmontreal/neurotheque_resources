{
 "cells": [
  {
   "cell_type": "markdown",
   "metadata": {},
   "source": [
    "# Purpose: Demonstrate how to run the pipeline that:\n",
    "    #   1. Loads raw data\n",
    "    #   2. Applies PrepChannels, Filter, ICA, AutoReject, etc.\n",
    "    #   3. Saves the global preprocessed file\n",
    "    #   4. Splits it into tasks and saves each sub-task's .fif\n",
    "\n"
   ]
  },
  {
   "cell_type": "code",
   "execution_count": 2,
   "metadata": {},
   "outputs": [
    {
     "name": "stdout",
     "output_type": "stream",
     "text": [
      "The autoreload extension is already loaded. To reload it, use:\n",
      "  %reload_ext autoreload\n",
      "Using config file: e:\\Yann\\neurotheque_resources\\configs\\pilot_preprocessing_strategy.yml\n"
     ]
    }
   ],
   "source": [
    "%load_ext autoreload\n",
    "%autoreload 2\n",
    "import sys\n",
    "import os\n",
    "sys.path.insert(0, os.path.abspath(os.path.join('..', '..')))\n",
    "from scr.pipeline import Pipeline\n",
    "from scr.steps import __init__\n",
    "from autoreject import AutoReject\n",
    "config_file = os.path.abspath(os.path.join(\n",
    "    '..', '..', 'configs', 'pilot_preprocessing_strategy.yml'\n",
    "))\n",
    "print(\"Using config file:\", config_file)\n"
   ]
  },
  {
   "cell_type": "code",
   "execution_count": 3,
   "metadata": {},
   "outputs": [
    {
     "name": "stdout",
     "output_type": "stream",
     "text": [
      "Running the pilot preprocessing pipeline...\n",
      "[INFO] Found 1 file(s): ['E:\\\\Yann\\\\neuropipe\\\\data\\\\raw\\\\sub-01_ses-001_raw.edf']\n",
      "\n",
      "=== Processing file: E:\\Yann\\neuropipe\\data\\raw\\sub-01_ses-001_raw.edf ===\n",
      "[INFO] Found existing checkpoint => E:\\Yann\\neuropipe\\data\\processed\n",
      "Opening raw data file E:\\Yann\\neuropipe\\data\\processed\\sub-01_ses-001_desc-after_autoreject_eeg.fif...\n",
      "    Range : 0 ... 1135799 =      0.000 ...  3785.997 secs\n",
      "Ready.\n",
      "Reading 0 ... 1135799  =      0.000 ...  3785.997 secs...\n",
      "[INFO] Checkpoint loaded successfully.\n",
      "[INFO] Will skip steps [0..3] because checkpoint found.\n",
      "1509 events found on stim channel Trigger\n",
      "Event IDs: [  1   2   3   4   6   7   8   9  10  11  13  14  15  16  17  18  21  22\n",
      "  23  24  25  26  27  28  30  31  32  34  37  38  39  40  41  44  45  46\n",
      "  47  48  50  51  52  54  64 128]\n",
      "Overwriting existing file.\n",
      "Writing E:\\Yann\\neuropipe\\data\\processed\\sub-01_ses-001_desc-rest_raw.fif\n",
      "Closing E:\\Yann\\neuropipe\\data\\processed\\sub-01_ses-001_desc-rest_raw.fif\n",
      "[done]\n",
      "Overwriting existing file.\n",
      "Writing E:\\Yann\\neuropipe\\data\\processed\\sub-01_ses-001_desc-gng_image_raw.fif\n",
      "Closing E:\\Yann\\neuropipe\\data\\processed\\sub-01_ses-001_desc-gng_image_raw.fif\n",
      "[done]\n"
     ]
    },
    {
     "name": "stderr",
     "output_type": "stream",
     "text": [
      "WARNING:root:[SplitTasksStep] mental_imagery: start >= end => Skipping.\n",
      "WARNING:root:[SplitTasksStep] landoitc: start >= end => Skipping.\n"
     ]
    },
    {
     "name": "stdout",
     "output_type": "stream",
     "text": [
      "[SUCCESS] Pipeline completed (multi-subject).\n",
      "Pipeline completed successfully.\n"
     ]
    }
   ],
   "source": [
    "# Create a Pipeline instance\n",
    "pipeline = Pipeline(config_file=config_file)\n",
    "# Run the pipeline\n",
    "print(\"Running the pilot preprocessing pipeline...\")\n",
    "pipeline.run()\n",
    "print(\"Pipeline completed successfully.\")\n"
   ]
  }
 ],
 "metadata": {
  "kernelspec": {
   "display_name": "eeg_analysis",
   "language": "python",
   "name": "python3"
  },
  "language_info": {
   "codemirror_mode": {
    "name": "ipython",
    "version": 3
   },
   "file_extension": ".py",
   "mimetype": "text/x-python",
   "name": "python",
   "nbconvert_exporter": "python",
   "pygments_lexer": "ipython3",
   "version": "3.10.15"
  }
 },
 "nbformat": 4,
 "nbformat_minor": 2
}
