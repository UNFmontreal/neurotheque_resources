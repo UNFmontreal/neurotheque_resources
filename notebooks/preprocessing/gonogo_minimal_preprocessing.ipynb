{
 "cells": [
  {
   "cell_type": "markdown",
   "metadata": {},
   "source": [
    "# Go/No-Go Task Minimal Preprocessing Pipeline\n",
    "\n",
    "This notebook demonstrates how to use the minimal preprocessing pipeline for Go/No-Go task data. The minimal pipeline includes basic preprocessing steps that are essential for further analysis without more complex operations like ICA.\n",
    "\n",
    "## Pipeline Overview\n",
    "\n",
    "The minimal preprocessing pipeline includes the following steps:\n",
    "1. **Load Data**: Load raw EEG data files\n",
    "2. **Channel Preparation**: Configure channel types and handle missing montage positions\n",
    "3. **Filtering**: Apply bandpass and notch filters to remove noise\n",
    "4. **Epoching**: Segment the continuous data into epochs around stimulus events\n",
    "5. **Save Checkpoint**: Save the preprocessed data for further analysis"
   ]
  },
  {
   "cell_type": "markdown",
   "metadata": {},
   "source": [
    "## Setting Up the Environment\n",
    "\n",
    "First, let's import the necessary libraries and configure the environment."
   ]
  },
  {
   "cell_type": "code",
   "execution_count": 1,
   "metadata": {},
   "outputs": [],
   "source": [
    "%load_ext autoreload\n",
    "%autoreload 2\n",
    "\n",
    "import os\n",
    "import sys\n",
    "import numpy as np\n",
    "import matplotlib.pyplot as plt\n",
    "import mne\n",
    "import yaml\n",
    "from pathlib import Path\n",
    "import logging\n",
    "\n",
    "# Add the parent directory to path to import custom modules\n",
    "sys.path.append(os.path.abspath('../..'))\n",
    "# from custom_steps import CustomPrepChannelsStep, CustomEpochingStep\n",
    "\n",
    "# Configure logging\n",
    "logging.basicConfig(level=logging.INFO, format='%(asctime)s - %(name)s - %(levelname)s - %(message)s')\n",
    "logger = logging.getLogger('gonogo_minimal_preprocessing')\n",
    "\n",
    "# MNE settings\n",
    "mne.set_log_level('INFO')\n",
    "%matplotlib inline"
   ]
  },
  {
   "cell_type": "markdown",
   "metadata": {},
   "source": [
    "## Loading the Pipeline Configuration\n",
    "\n",
    "We'll load the minimal pipeline configuration from the YAML file."
   ]
  },
  {
   "cell_type": "code",
   "execution_count": 2,
   "metadata": {},
   "outputs": [
    {
     "name": "stdout",
     "output_type": "stream",
     "text": [
      "Loaded configuration from ../../configs/gonogo_minimal_pipeline.yml\n",
      "Pipeline steps:\n",
      "- LoadData\n",
      "- CustomPrepChannelsStep\n",
      "- FilterStep\n",
      "- CustomEpochingStep\n",
      "- SaveCheckpoint\n"
     ]
    }
   ],
   "source": [
    "\n",
    "def create_minimal_config():\n",
    "    \"\"\"\n",
    "    Create a minimal pipeline configuration that includes:\n",
    "    - Loading data\n",
    "    - PreChannels step\n",
    "    - Filtering\n",
    "    - Epoching specific to Go/No-Go task\n",
    "    \"\"\"\n",
    "    config = {\n",
    "        \"directory\": {\n",
    "            \"root\": \"D:/Yann/neurotheque_resources/\",\n",
    "            \"raw_data_dir\": \"data/pilot_data/tasks\",\n",
    "            \"processed_dir\": \"data/processed\",\n",
    "            \"reports_dir\": \"reports/minimal\",\n",
    "            \"derivatives_dir\": \"derivatives\"\n",
    "        },\n",
    "        \"default_subject\": \"01\",\n",
    "        \"default_session\": \"001\",\n",
    "        \"default_run\": \"01\",\n",
    "        \"pipeline_mode\": \"standard\",\n",
    "        \"auto_save\": True,\n",
    "        \"file_path_pattern\": \"sub-01_ses-001_task-gng_image_run-01_raw.fif\",\n",
    "        \"pipeline\": {\n",
    "            \"steps\": [\n",
    "                {\n",
    "                    \"name\": \"LoadData\",\n",
    "                    \"params\": {\n",
    "                        \"input_file\": None  # Will be set by the pipeline based on file_path_pattern\n",
    "                    }\n",
    "                },\n",
    "                {\n",
    "                    \"name\": \"PrepChannelsStep\",\n",
    "                    \"params\": {\n",
    "                        \"channel_types\": {\"X1:ECG\": \"ecg\"},\n",
    "                        \"on_missing\": \"ignore\"  # Handle missing channel positions\n",
    "                    }\n",
    "                },\n",
    "                {\n",
    "                    \"name\": \"FilterStep\",\n",
    "                    \"params\": {\n",
    "                        \"l_freq\": 1.0,\n",
    "                        \"h_freq\": 40.0,\n",
    "                        \"notch_freqs\": [50, 60]\n",
    "                    }\n",
    "                },\n",
    "                {\n",
    "                    \"name\": \"EpochingStep\",\n",
    "                    \"params\": {\n",
    "                        \"tmin\": -0.2,\n",
    "                        \"tmax\": 1.0,\n",
    "                        \"baseline\": [None, 0],  # Fixed None value for proper YAML serialization\n",
    "                        \"event_id\": {\"go\": 1, \"nogo\": 2},  # Adjust based on your actual triggers\n",
    "                        \"stim_channel\": \"Trigger\"  # Use the correct trigger channel name\n",
    "                    }\n",
    "                },\n",
    "                {\n",
    "                    \"name\": \"SaveCheckpoint\",\n",
    "                    \"params\": {\n",
    "                        \"overwrite\": True\n",
    "                    }\n",
    "                }\n",
    "            ]\n",
    "        }\n",
    "    }\n",
    "    \n",
    "    return config\n",
    "\n",
    "\n",
    "# Load the minimal pipeline configuration\n",
    "try:\n",
    "    # Try to load from existing YAML file first\n",
    "    config_path = '../../configs/gonogo_minimal_pipeline.yml'\n",
    "    with open(config_path, 'r') as f:\n",
    "        config = yaml.safe_load(f)\n",
    "    print(f\"Loaded configuration from {config_path}\")\n",
    "except (FileNotFoundError, IOError):\n",
    "    # If file doesn't exist, create the configuration programmatically\n",
    "    print(\"Configuration file not found. Creating configuration programmatically.\")\n",
    "    config = create_minimal_config()\n",
    "\n",
    "print(\"Pipeline steps:\")\n",
    "for step in config['pipeline']['steps']:\n",
    "    print(f\"- {step['name']}\")\n",
    "\n",
    "# Extract key configuration parameters\n",
    "root_dir = config['directory']['root']\n",
    "raw_data_dir = os.path.join(root_dir, config['directory']['raw_data_dir'])\n",
    "processed_dir = os.path.join(root_dir, config['directory']['processed_dir'])\n",
    "file_pattern = config['file_path_pattern']\n",
    "\n",
    "# Ensure directories exist\n",
    "os.makedirs(processed_dir, exist_ok=True)"
   ]
  },
  {
   "cell_type": "markdown",
   "metadata": {},
   "source": [
    "## Step 1: Loading the Data\n",
    "\n",
    "The first step is to load the raw EEG data. For Go/No-Go tasks, we expect the data to be in FIFF format."
   ]
  },
  {
   "cell_type": "code",
   "execution_count": 3,
   "metadata": {},
   "outputs": [
    {
     "name": "stderr",
     "output_type": "stream",
     "text": [
      "2025-04-13 01:37:06,386 - gonogo_minimal_preprocessing - INFO - Loading data from D:/Yann/neurotheque_resources/data/pilot_data/tasks\\sub-01_ses-001_task-gng_image_run-01_raw.fif\n"
     ]
    },
    {
     "name": "stdout",
     "output_type": "stream",
     "text": [
      "Opening raw data file D:/Yann/neurotheque_resources/data/pilot_data/tasks\\sub-01_ses-001_task-gng_image_run-01_raw.fif...\n",
      "Isotrak not found\n",
      "    Range : 81028 ... 385484 =    270.093 ...  1284.947 secs\n",
      "Ready.\n",
      "Reading 0 ... 304456  =      0.000 ...  1014.853 secs...\n",
      "\n",
      "Raw data information:\n",
      "Number of channels: 27\n",
      "Sampling frequency: 300.0 Hz\n",
      "Duration: 1014.85 seconds\n"
     ]
    },
    {
     "name": "stderr",
     "output_type": "stream",
     "text": [
      "2025-04-13 01:37:08,969 - OpenGL.acceleratesupport - INFO - No OpenGL_accelerate module loaded: No module named 'OpenGL_accelerate'\n"
     ]
    },
    {
     "name": "stdout",
     "output_type": "stream",
     "text": [
      "Using qt as 2D backend.\n"
     ]
    },
    {
     "data": {
      "text/plain": [
       "<mne_qt_browser._pg_figure.MNEQtBrowser at 0x1c22fae4550>"
      ]
     },
     "execution_count": 3,
     "metadata": {},
     "output_type": "execute_result"
    }
   ],
   "source": [
    "# Define the file path using the pattern from the configuration\n",
    "file_path = os.path.join(raw_data_dir, file_pattern)\n",
    "\n",
    "# Load the raw data\n",
    "logger.info(f\"Loading data from {file_path}\")\n",
    "raw = mne.io.read_raw_fif(file_path, preload=True)\n",
    "\n",
    "# Display basic information about the raw data\n",
    "print(\"\\nRaw data information:\")\n",
    "print(f\"Number of channels: {len(raw.ch_names)}\")\n",
    "print(f\"Sampling frequency: {raw.info['sfreq']} Hz\")\n",
    "print(f\"Duration: {raw.times[-1]:.2f} seconds\")\n",
    "\n",
    "# Plot the raw data (first 10 seconds)\n",
    "raw.plot(duration=10, n_channels=20, title='Raw EEG data')"
   ]
  },
  {
   "cell_type": "markdown",
   "metadata": {},
   "source": [
    "## Step 2: Channel Preparation\n",
    "\n",
    "The `CustomPrepChannelsStep` properly handles the ECG channel and missing montage positions. This step is crucial for ensuring that all channels are correctly typed and named."
   ]
  },
  {
   "cell_type": "code",
   "execution_count": 4,
   "metadata": {},
   "outputs": [
    {
     "data": {
      "text/plain": [
       "['EEG P3-Pz',\n",
       " 'EEG C3-Pz',\n",
       " 'EEG F3-Pz',\n",
       " 'EEG Fz-Pz',\n",
       " 'EEG F4-Pz',\n",
       " 'EEG C4-Pz',\n",
       " 'EEG P4-Pz',\n",
       " 'EEG Cz-Pz',\n",
       " 'CM',\n",
       " 'EEG A1-Pz',\n",
       " 'EEG Fp1-Pz',\n",
       " 'EEG Fp2-Pz',\n",
       " 'EEG T3-Pz',\n",
       " 'EEG T5-Pz',\n",
       " 'EEG O1-Pz',\n",
       " 'EEG O2-Pz',\n",
       " 'EEG X3:-Pz',\n",
       " 'EEG X2:-Pz',\n",
       " 'EEG F7-Pz',\n",
       " 'EEG F8-Pz',\n",
       " 'EEG X1:ECG-Pz',\n",
       " 'EEG A2-Pz',\n",
       " 'EEG T6-Pz',\n",
       " 'EEG T4-Pz',\n",
       " 'Pz',\n",
       " 'Trigger',\n",
       " 'Event']"
      ]
     },
     "execution_count": 4,
     "metadata": {},
     "output_type": "execute_result"
    }
   ],
   "source": [
    "raw.ch_names\n"
   ]
  },
  {
   "cell_type": "code",
   "execution_count": 19,
   "metadata": {},
   "outputs": [
    {
     "ename": "StopIteration",
     "evalue": "",
     "output_type": "error",
     "traceback": [
      "\u001b[1;31m---------------------------------------------------------------------------\u001b[0m",
      "\u001b[1;31mStopIteration\u001b[0m                             Traceback (most recent call last)",
      "Cell \u001b[1;32mIn[19], line 2\u001b[0m\n\u001b[0;32m      1\u001b[0m \u001b[38;5;66;03m# Extract parameters from the configuration\u001b[39;00m\n\u001b[1;32m----> 2\u001b[0m prep_channels_config \u001b[38;5;241m=\u001b[39m \u001b[38;5;28;43mnext\u001b[39;49m\u001b[43m(\u001b[49m\u001b[43mstep\u001b[49m\u001b[43m \u001b[49m\u001b[38;5;28;43;01mfor\u001b[39;49;00m\u001b[43m \u001b[49m\u001b[43mstep\u001b[49m\u001b[43m \u001b[49m\u001b[38;5;129;43;01min\u001b[39;49;00m\u001b[43m \u001b[49m\u001b[43mconfig\u001b[49m\u001b[43m[\u001b[49m\u001b[38;5;124;43m'\u001b[39;49m\u001b[38;5;124;43mpipeline\u001b[39;49m\u001b[38;5;124;43m'\u001b[39;49m\u001b[43m]\u001b[49m\u001b[43m[\u001b[49m\u001b[38;5;124;43m'\u001b[39;49m\u001b[38;5;124;43msteps\u001b[39;49m\u001b[38;5;124;43m'\u001b[39;49m\u001b[43m]\u001b[49m\u001b[43m \u001b[49m\u001b[38;5;28;43;01mif\u001b[39;49;00m\u001b[43m \u001b[49m\u001b[43mstep\u001b[49m\u001b[43m[\u001b[49m\u001b[38;5;124;43m'\u001b[39;49m\u001b[38;5;124;43mname\u001b[39;49m\u001b[38;5;124;43m'\u001b[39;49m\u001b[43m]\u001b[49m\u001b[43m \u001b[49m\u001b[38;5;241;43m==\u001b[39;49m\u001b[43m \u001b[49m\u001b[38;5;124;43m'\u001b[39;49m\u001b[38;5;124;43mPrepChannelsStep\u001b[39;49m\u001b[38;5;124;43m'\u001b[39;49m\u001b[43m)\u001b[49m\n\u001b[0;32m      4\u001b[0m \u001b[38;5;66;03m# Set the referencing parameters for Pz\u001b[39;00m\n\u001b[0;32m      5\u001b[0m \u001b[38;5;28;01mif\u001b[39;00m \u001b[38;5;124m'\u001b[39m\u001b[38;5;124mparams\u001b[39m\u001b[38;5;124m'\u001b[39m \u001b[38;5;129;01mnot\u001b[39;00m \u001b[38;5;129;01min\u001b[39;00m prep_channels_config:\n",
      "\u001b[1;31mStopIteration\u001b[0m: "
     ]
    }
   ],
   "source": [
    "# Extract parameters from the configuration\n",
    "prep_channels_config = next(step for step in config['pipeline']['steps'] if step['name'] == 'PrepChannelsStep' or step['name'] == 'CustomPrepChannelsStep')\n",
    "\n",
    "# Set the referencing parameters for Pz\n",
    "if 'params' not in prep_channels_config:\n",
    "    prep_channels_config['params'] = {}\n",
    "    \n",
    "prep_channels_config['params']['reference'] = {\n",
    "    'method': 'average',  # Change from Pz (channels) to average reference\n",
    "    # Uncomment these lines if you want to use specific channels instead\n",
    "    # 'method': 'channels',\n",
    "    # 'channels': ['Pz'],  # Our system already uses Pz as reference\n",
    "    'projection': False\n",
    "}\n",
    "\n",
    "# Use the PrepChannelsStep with referencing\n",
    "from scr.steps.prepchannels import PrepChannelsStep\n",
    "\n",
    "# Create and apply the channel preparation step\n",
    "logger.info(f\"Preparing channels with referencing\")\n",
    "prep_channels_step = PrepChannelsStep(params=prep_channels_config['params'])\n",
    "raw = prep_channels_step.run(raw)\n",
    "\n",
    "# Continue with filtering using the FilterStep\n",
    "from scr.steps.filter import FilterStep\n",
    "\n",
    "# Extract filtering parameters from the configuration\n",
    "filter_config = next(step for step in config['pipeline']['steps'] if step['name'] == 'FilterStep')\n",
    "\n",
    "# Create and apply the filter step\n",
    "logger.info(f\"Applying filtering using FilterStep\")\n",
    "filter_step = FilterStep(params=filter_config['params'])\n",
    "raw = filter_step.run(raw)\n",
    "\n",
    "# Plot power spectral density after filtering\n",
    "raw.plot_psd(fmax=filter_config['params']['h_freq']*1.5)\n",
    "\n",
    "# Plot filtered data\n",
    "raw.plot(duration=10, n_channels=20, title='Filtered EEG data')"
   ]
  },
  {
   "cell_type": "markdown",
   "metadata": {},
   "source": [
    "## Step 3: Filtering\n",
    "\n",
    "Filtering is a crucial step to remove unwanted frequency components from the signal. We apply:\n",
    "1. A bandpass filter to remove slow drifts and high-frequency noise\n",
    "2. Notch filters to remove power line interference"
   ]
  },
  {
   "cell_type": "code",
   "execution_count": 18,
   "metadata": {},
   "outputs": [
    {
     "name": "stderr",
     "output_type": "stream",
     "text": [
      "2025-04-13 01:49:50,537 - gonogo_minimal_preprocessing - INFO - Applying filtering using FilterStep\n"
     ]
    },
    {
     "name": "stdout",
     "output_type": "stream",
     "text": [
      "Filtering raw data in 1 contiguous segment\n",
      "Setting up band-pass filter from 1 - 40 Hz\n",
      "\n",
      "FIR filter parameters\n",
      "---------------------\n",
      "Designing a one-pass, zero-phase, non-causal bandpass filter:\n",
      "- Windowed time-domain design (firwin) method\n",
      "- Hamming window with 0.0194 passband ripple and 53 dB stopband attenuation\n",
      "- Lower passband edge: 1.00\n",
      "- Lower transition bandwidth: 1.00 Hz (-6 dB cutoff frequency: 0.50 Hz)\n",
      "- Upper passband edge: 40.00 Hz\n",
      "- Upper transition bandwidth: 10.00 Hz (-6 dB cutoff frequency: 45.00 Hz)\n",
      "- Filter length: 991 samples (3.303 s)\n",
      "\n",
      "Filtering raw data in 1 contiguous segment\n",
      "Setting up band-stop filter\n",
      "\n",
      "FIR filter parameters\n",
      "---------------------\n",
      "Designing a one-pass, zero-phase, non-causal bandstop filter:\n",
      "- Windowed time-domain design (firwin) method\n",
      "- Hamming window with 0.0194 passband ripple and 53 dB stopband attenuation\n",
      "- Lower transition bandwidth: 0.50 Hz\n",
      "- Upper transition bandwidth: 0.50 Hz\n",
      "- Filter length: 1981 samples (6.603 s)\n",
      "\n"
     ]
    },
    {
     "name": "stderr",
     "output_type": "stream",
     "text": [
      "[Parallel(n_jobs=1)]: Done  17 tasks      | elapsed:    0.1s\n"
     ]
    },
    {
     "name": "stdout",
     "output_type": "stream",
     "text": [
      "Effective window size : 6.827 (s)\n"
     ]
    },
    {
     "name": "stderr",
     "output_type": "stream",
     "text": [
      "[Parallel(n_jobs=1)]: Done  17 tasks      | elapsed:    0.1s\n"
     ]
    },
    {
     "name": "stdout",
     "output_type": "stream",
     "text": [
      "Plotting power spectral density (dB=True).\n"
     ]
    },
    {
     "name": "stderr",
     "output_type": "stream",
     "text": [
      "C:\\Users\\s\\AppData\\Local\\Temp\\ipykernel_21416\\732450856.py:18: UserWarning: Zero value in spectrum for channel Pz\n",
      "  raw.compute_psd(fmax=filter_config['params']['h_freq']*1.5, picks='eeg').plot()\n",
      "C:\\Users\\s\\AppData\\Local\\Temp\\ipykernel_21416\\732450856.py:18: UserWarning: Infinite value in PSD for channel Pz.\n",
      "These channels might be dead.\n",
      "  raw.compute_psd(fmax=filter_config['params']['h_freq']*1.5, picks='eeg').plot()\n"
     ]
    },
    {
     "data": {
      "text/plain": [
       "<mne_qt_browser._pg_figure.MNEQtBrowser at 0x1c243caa710>"
      ]
     },
     "execution_count": 18,
     "metadata": {},
     "output_type": "execute_result"
    },
    {
     "name": "stdout",
     "output_type": "stream",
     "text": [
      "Channels marked as bad:\n",
      "none\n"
     ]
    }
   ],
   "source": [
    "import matplotlib\n",
    "matplotlib.use('Qt5Agg')  # or 'Qt5Agg', etc.\n",
    "import matplotlib.pyplot as plt\n",
    "\n",
    "# Extract filtering parameters from the configuration\n",
    "filter_config = next(step for step in config['pipeline']['steps'] if step['name'] == 'FilterStep')\n",
    "\n",
    "# Use the FilterStep directly instead of manual filtering\n",
    "from scr.steps.filter import FilterStep\n",
    "\n",
    "# Create and apply the filter step\n",
    "logger.info(f\"Applying filtering using FilterStep\")\n",
    "filter_step = FilterStep(params=filter_config['params'])\n",
    "raw = filter_step.run(raw)\n",
    "\n",
    "# Plot power spectral density after filtering\n",
    "fig, ax = plt.subplots(figsize=(10, 6))\n",
    "raw.compute_psd(fmax=filter_config['params']['h_freq']*1.5, picks='eeg').plot()\n",
    "ax.set_title('Power Spectral Density after Filtering')\n",
    "ax.set_xlabel('Frequency (Hz)')\n",
    "ax.set_ylabel('Power Spectral Density (dB)')\n",
    "plt.show()\n",
    "\n",
    "# Plot filtered data\n",
    "raw.plot(duration=10, n_channels=20, title='Filtered EEG data')"
   ]
  },
  {
   "cell_type": "markdown",
   "metadata": {},
   "source": [
    "## Step 4: Epoching\n",
    "\n",
    "Epoching segments the continuous data into time windows around stimulus events. For Go/No-Go tasks, we create epochs for:\n",
    "- `go` events (event ID: 1): Stimuli requiring a response\n",
    "- `nogo` events (event ID: 2): Stimuli requiring response inhibition\n",
    "\n",
    "The `CustomEpochingStep` properly uses the specified stim_channel for finding events."
   ]
  },
  {
   "cell_type": "code",
   "execution_count": null,
   "metadata": {},
   "outputs": [],
   "source": [
    "# Extract epoching parameters from the configuration\n",
    "epoch_config = next(step for step in config['pipeline']['steps'] if step['name'] == 'CustomEpochingStep')\n",
    "tmin = epoch_config['params']['tmin']  # Start time relative to event (seconds)\n",
    "tmax = epoch_config['params']['tmax']  # End time relative to event (seconds)\n",
    "event_id = epoch_config['params']['event_id']  # Event IDs to use\n",
    "stim_channel = epoch_config['params']['stim_channel']  # Stimulus channel name\n",
    "baseline = epoch_config['params']['baseline']  # Baseline correction period\n",
    "\n",
    "# Execute the custom epoching step\n",
    "logger.info(f\"Creating epochs from {tmin}s to {tmax}s around events\")\n",
    "epoch_step = CustomEpochingStep(\n",
    "    tmin=tmin, tmax=tmax, event_id=event_id,\n",
    "    stim_channel=stim_channel, baseline=baseline\n",
    ")\n",
    "epochs = epoch_step.run(raw)\n",
    "\n",
    "# Display information about the epochs\n",
    "print(\"\\nEpochs information:\")\n",
    "print(epochs)\n",
    "\n",
    "# Count the number of each event type\n",
    "print(\"\\nEvent counts:\")\n",
    "event_counts = {event_name: len(epochs[event_name]) for event_name in event_id.keys()}\n",
    "for event_name, count in event_counts.items():\n",
    "    print(f\"- {event_name}: {count} epochs\")\n",
    "\n",
    "# Plot the average of each event type\n",
    "for event_name in event_id.keys():\n",
    "    fig = epochs[event_name].average().plot(spatial_colors=True, title=f'Average ERP for {event_name} events')\n",
    "    \n",
    "# Plot epochs for a few selected channels\n",
    "selected_channels = ['Fz', 'Cz', 'Pz']\n",
    "epochs.plot_image(picks=selected_channels, combine='mean', title='Epochs image plot')"
   ]
  },
  {
   "cell_type": "markdown",
   "metadata": {},
   "source": [
    "## Comparing Go vs. No-Go Responses\n",
    "\n",
    "One of the key analyses in Go/No-Go tasks is comparing the ERPs for Go and NoGo conditions. Let's create a visualization to compare these responses."
   ]
  },
  {
   "cell_type": "code",
   "execution_count": null,
   "metadata": {},
   "outputs": [],
   "source": [
    "# Calculate ERPs for Go and NoGo conditions\n",
    "go_erp = epochs['go'].average()\n",
    "nogo_erp = epochs['nogo'].average()\n",
    "\n",
    "# Create a comparison plot for key midline electrodes (Fz, Cz, Pz)\n",
    "channels_to_plot = ['Fz', 'Cz', 'Pz']\n",
    "\n",
    "fig, axes = plt.subplots(len(channels_to_plot), 1, figsize=(10, 12))\n",
    "times = epochs.times * 1000  # Convert to milliseconds\n",
    "\n",
    "for i, channel in enumerate(channels_to_plot):\n",
    "    axes[i].plot(times, go_erp.data[go_erp.ch_names.index(channel)], 'b-', linewidth=2, label='Go')\n",
    "    axes[i].plot(times, nogo_erp.data[nogo_erp.ch_names.index(channel)], 'r-', linewidth=2, label='NoGo')\n",
    "    axes[i].axvline(x=0, color='k', linestyle='--')  # Mark stimulus onset\n",
    "    axes[i].axhline(y=0, color='k', linestyle=':')\n",
    "    axes[i].set_xlim([tmin*1000, tmax*1000])\n",
    "    axes[i].set_title(f'Channel {channel}', fontsize=14)\n",
    "    axes[i].set_ylabel('Amplitude (μV)')\n",
    "    axes[i].legend(loc='best')\n",
    "    \n",
    "    # Highlight potential components\n",
    "    if channel == 'Fz' or channel == 'Cz':\n",
    "        axes[i].axvspan(200, 350, alpha=0.2, color='g', label='N2 range')\n",
    "    if channel == 'Cz' or channel == 'Pz':\n",
    "        axes[i].axvspan(350, 500, alpha=0.2, color='y', label='P3 range')\n",
    "\n",
    "axes[-1].set_xlabel('Time (ms)')\n",
    "plt.tight_layout()\n",
    "plt.suptitle('Comparison of Go vs. NoGo ERPs', fontsize=16)\n",
    "plt.subplots_adjust(top=0.92)\n",
    "plt.show()"
   ]
  },
  {
   "cell_type": "markdown",
   "metadata": {},
   "source": [
    "## Topographic Maps\n",
    "\n",
    "Topographic maps help visualize the distribution of ERP components across the scalp."
   ]
  },
  {
   "cell_type": "code",
   "execution_count": null,
   "metadata": {},
   "outputs": [],
   "source": [
    "# Create topographic maps for key time points\n",
    "# N2 component (around 200-350 ms)\n",
    "# P3 component (around 350-500 ms)\n",
    "\n",
    "n2_time = 0.250  # 250 ms\n",
    "p3_time = 0.400  # 400 ms\n",
    "\n",
    "fig, axes = plt.subplots(2, 2, figsize=(10, 8))\n",
    "\n",
    "# N2 Go\n",
    "go_erp.plot_topomap(times=n2_time, axes=axes[0, 0], show=False, colorbar=True)\n",
    "axes[0, 0].set_title('Go - N2 (250 ms)')\n",
    "\n",
    "# N2 NoGo\n",
    "nogo_erp.plot_topomap(times=n2_time, axes=axes[0, 1], show=False, colorbar=True)\n",
    "axes[0, 1].set_title('NoGo - N2 (250 ms)')\n",
    "\n",
    "# P3 Go\n",
    "go_erp.plot_topomap(times=p3_time, axes=axes[1, 0], show=False, colorbar=True)\n",
    "axes[1, 0].set_title('Go - P3 (400 ms)')\n",
    "\n",
    "# P3 NoGo\n",
    "nogo_erp.plot_topomap(times=p3_time, axes=axes[1, 1], show=False, colorbar=True)\n",
    "axes[1, 1].set_title('NoGo - P3 (400 ms)')\n",
    "\n",
    "plt.tight_layout()\n",
    "plt.suptitle('Topographic Distribution of ERP Components', fontsize=16)\n",
    "plt.subplots_adjust(top=0.9)\n",
    "plt.show()"
   ]
  },
  {
   "cell_type": "markdown",
   "metadata": {},
   "source": [
    "## Saving the Processed Data\n",
    "\n",
    "Finally, we'll save the preprocessed epochs for future analysis."
   ]
  },
  {
   "cell_type": "code",
   "execution_count": null,
   "metadata": {},
   "outputs": [],
   "source": [
    "# Define output file path\n",
    "sub_id = config['default_subject']\n",
    "ses_id = config['default_session']\n",
    "run_id = config['default_run']\n",
    "output_dir = os.path.join(processed_dir, f\"sub-{sub_id}\", f\"ses-{ses_id}\")\n",
    "os.makedirs(output_dir, exist_ok=True)\n",
    "\n",
    "output_file = os.path.join(output_dir, f\"sub-{sub_id}_ses-{ses_id}_task-gng_run-{run_id}_preprocessed-epo.fif\")\n",
    "\n",
    "# Save epochs\n",
    "logger.info(f\"Saving preprocessed epochs to {output_file}\")\n",
    "epochs.save(output_file, overwrite=True)\n",
    "\n",
    "print(f\"\\nPreprocessed data saved to: {output_file}\")"
   ]
  },
  {
   "cell_type": "markdown",
   "metadata": {},
   "source": [
    "## Conclusion\n",
    "\n",
    "This notebook demonstrated the minimal preprocessing pipeline for Go/No-Go task data. We've covered:\n",
    "\n",
    "1. **Loading the raw data** from FIFF files\n",
    "2. **Preparing channels** using the custom step that properly handles ECG channels and missing montage positions\n",
    "3. **Filtering** with bandpass (1-40 Hz) and notch filters (50/60 Hz)\n",
    "4. **Epoching** the data around Go and NoGo events with baseline correction\n",
    "5. **Visualizing** the ERPs and their topographic distributions\n",
    "6. **Saving** the preprocessed data for future analysis\n",
    "\n",
    "The minimal pipeline provides the essential preprocessing steps for analyzing Go/No-Go task data without more complex operations like ICA or advanced artifact rejection. For more complex preprocessing needs, consider using the intermediate or advanced pipeline configurations.\n",
    "\n",
    "### Key ERP Components in Go/No-Go Tasks\n",
    "\n",
    "- **N2 component** (200-350 ms): Associated with conflict monitoring and inhibitory processing. Typically enhanced (more negative) for NoGo compared to Go trials, especially at frontocentral electrodes (Fz, Cz).\n",
    "- **P3 component** (350-500 ms): Associated with response inhibition (NoGo-P3) and response execution (Go-P3). The NoGo-P3 typically has a more anterior distribution (Cz), while the Go-P3 has a more posterior distribution (Pz).\n",
    "\n",
    "These components are key neural markers of response inhibition processes in the Go/No-Go task."
   ]
  }
 ],
 "metadata": {
  "kernelspec": {
   "display_name": "eeg_analysis",
   "language": "python",
   "name": "python3"
  },
  "language_info": {
   "codemirror_mode": {
    "name": "ipython",
    "version": 3
   },
   "file_extension": ".py",
   "mimetype": "text/x-python",
   "name": "python",
   "nbconvert_exporter": "python",
   "pygments_lexer": "ipython3",
   "version": "3.10.15"
  }
 },
 "nbformat": 4,
 "nbformat_minor": 4
}
