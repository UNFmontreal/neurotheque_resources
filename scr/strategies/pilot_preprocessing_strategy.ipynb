{
 "cells": [
  {
   "cell_type": "markdown",
   "metadata": {},
   "source": [
    "# Purpose: Demonstrate how to run the pipeline that:\n",
    "    #   1. Loads raw data\n",
    "    #   2. Applies PrepChannels, Filter, ICA, AutoReject, etc.\n",
    "    #   3. Saves the global preprocessed file\n",
    "    #   4. Splits it into tasks and saves each sub-task's .fif\n",
    "\n"
   ]
  },
  {
   "cell_type": "code",
   "execution_count": 1,
   "metadata": {},
   "outputs": [
    {
     "name": "stdout",
     "output_type": "stream",
     "text": [
      "Using config file: e:\\Yann\\neuropipe\\configs\\pilot_preprocessing_strategy.yml\n"
     ]
    }
   ],
   "source": [
    "# %load_ext autoreload\n",
    "# %autoreload 2\n",
    "import sys\n",
    "import os\n",
    "sys.path.insert(0, os.path.abspath(os.path.join('..', '..')))\n",
    "from scr.pipeline import Pipeline\n",
    "from scr.steps import __init__\n",
    "from autoreject import AutoReject\n",
    "config_file = os.path.abspath(os.path.join(\n",
    "    '..', '..', 'configs', 'pilot_preprocessing_strategy.yml'\n",
    "))\n",
    "print(\"Using config file:\", config_file)\n"
   ]
  },
  {
   "cell_type": "code",
   "execution_count": 2,
   "metadata": {},
   "outputs": [
    {
     "name": "stdout",
     "output_type": "stream",
     "text": [
      "Running the pilot preprocessing pipeline...\n",
      "[INFO] Found 1 file(s): ['E:\\\\Yann\\\\neuropipe\\\\data\\\\pilot_data\\\\sub-01_ses-001_raw.edf']\n",
      "\n",
      "=== Processing file: E:\\Yann\\neuropipe\\data\\pilot_data\\sub-01_ses-001_raw.edf ===\n"
     ]
    },
    {
     "ename": "AttributeError",
     "evalue": "'ProjectPaths' object has no attribute 'get_autoreject_checkpoint'",
     "output_type": "error",
     "traceback": [
      "\u001b[1;31m---------------------------------------------------------------------------\u001b[0m",
      "\u001b[1;31mAttributeError\u001b[0m                            Traceback (most recent call last)",
      "Cell \u001b[1;32mIn[2], line 5\u001b[0m\n\u001b[0;32m      3\u001b[0m \u001b[38;5;66;03m# Run the pipeline\u001b[39;00m\n\u001b[0;32m      4\u001b[0m \u001b[38;5;28mprint\u001b[39m(\u001b[38;5;124m\"\u001b[39m\u001b[38;5;124mRunning the pilot preprocessing pipeline...\u001b[39m\u001b[38;5;124m\"\u001b[39m)\n\u001b[1;32m----> 5\u001b[0m \u001b[43mpipeline\u001b[49m\u001b[38;5;241;43m.\u001b[39;49m\u001b[43mrun\u001b[49m\u001b[43m(\u001b[49m\u001b[43m)\u001b[49m\n\u001b[0;32m      6\u001b[0m \u001b[38;5;28mprint\u001b[39m(\u001b[38;5;124m\"\u001b[39m\u001b[38;5;124mPipeline completed successfully.\u001b[39m\u001b[38;5;124m\"\u001b[39m)\n",
      "File \u001b[1;32me:\\Yann\\neuropipe\\scr\\pipeline.py:115\u001b[0m, in \u001b[0;36mPipeline.run\u001b[1;34m(self)\u001b[0m\n\u001b[0;32m    112\u001b[0m sub_id, ses_id \u001b[38;5;241m=\u001b[39m \u001b[38;5;28mself\u001b[39m\u001b[38;5;241m.\u001b[39m_parse_sub_ses(file_path)\n\u001b[0;32m    114\u001b[0m \u001b[38;5;66;03m#Look for an \"after_autoreject\" checkpoint for this subject\u001b[39;00m\n\u001b[1;32m--> 115\u001b[0m ckpt_path \u001b[38;5;241m=\u001b[39m \u001b[38;5;28;43mself\u001b[39;49m\u001b[38;5;241;43m.\u001b[39;49m\u001b[43mpaths\u001b[49m\u001b[38;5;241;43m.\u001b[39;49m\u001b[43mget_autoreject_checkpoint\u001b[49m(sub_id, ses_id)\n\u001b[0;32m    116\u001b[0m skip_index \u001b[38;5;241m=\u001b[39m \u001b[38;5;28;01mNone\u001b[39;00m  \u001b[38;5;66;03m# We'll find the index of \"AutoRejectStep\"\u001b[39;00m\n\u001b[0;32m    118\u001b[0m \u001b[38;5;28;01mif\u001b[39;00m ckpt_path\u001b[38;5;241m.\u001b[39mexists():\n",
      "\u001b[1;31mAttributeError\u001b[0m: 'ProjectPaths' object has no attribute 'get_autoreject_checkpoint'"
     ]
    }
   ],
   "source": [
    "# Create a Pipeline instance\n",
    "pipeline = Pipeline(config_file=config_file)\n",
    "# Run the pipeline\n",
    "print(\"Running the pilot preprocessing pipeline...\")\n",
    "pipeline.run()\n",
    "print(\"Pipeline completed successfully.\")\n"
   ]
  }
 ],
 "metadata": {
  "kernelspec": {
   "display_name": "neuropipe",
   "language": "python",
   "name": "python3"
  },
  "language_info": {
   "codemirror_mode": {
    "name": "ipython",
    "version": 3
   },
   "file_extension": ".py",
   "mimetype": "text/x-python",
   "name": "python",
   "nbconvert_exporter": "python",
   "pygments_lexer": "ipython3",
   "version": "3.11.11"
  }
 },
 "nbformat": 4,
 "nbformat_minor": 2
}
