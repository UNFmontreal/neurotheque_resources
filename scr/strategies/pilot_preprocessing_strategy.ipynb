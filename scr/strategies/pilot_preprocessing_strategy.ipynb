{
 "cells": [
  {
   "cell_type": "markdown",
   "metadata": {},
   "source": [
    "# Purpose: Demonstrate how to run the pipeline that:\n",
    "    #   1. Loads raw data\n",
    "    #   2. Applies PrepChannels, Filter, ICA, AutoReject, etc.\n",
    "    #   3. Saves the global preprocessed file\n",
    "    #   4. Splits it into tasks and saves each sub-task's .fif\n",
    "\n"
   ]
  },
  {
   "cell_type": "code",
   "execution_count": 3,
   "metadata": {},
   "outputs": [
    {
     "name": "stdout",
     "output_type": "stream",
     "text": [
      "The autoreload extension is already loaded. To reload it, use:\n",
      "  %reload_ext autoreload\n",
      "Using config file: e:\\Yann\\neuropipe\\configs\\pilot_preprocessing_strategy.yml\n"
     ]
    }
   ],
   "source": [
    "# %load_ext autoreload\n",
    "# %autoreload 2\n",
    "import sys\n",
    "import os\n",
    "sys.path.insert(0, os.path.abspath(os.path.join('..', '..')))\n",
    "from scr.pipeline import Pipeline\n",
    "from scr.steps import __init__\n",
    "from autoreject import AutoReject\n",
    "config_file = os.path.abspath(os.path.join(\n",
    "    '..', '..', 'configs', 'pilot_preprocessing_strategy.yml'\n",
    "))\n",
    "print(\"Using config file:\", config_file)\n"
   ]
  },
  {
   "cell_type": "code",
   "execution_count": 4,
   "metadata": {},
   "outputs": [
    {
     "name": "stdout",
     "output_type": "stream",
     "text": [
      "Running the pilot preprocessing pipeline...\n",
      "[INFO] Found 1 file(s): ['E:\\\\Yann\\\\neuropipe\\\\data\\\\pilot_data\\\\sub-01_ses-001_raw.edf']\n",
      "\n",
      "=== Processing file: E:\\Yann\\neuropipe\\data\\pilot_data\\sub-01_ses-001_raw.edf ===\n"
     ]
    },
    {
     "ename": "ValueError",
     "evalue": "Step 'LoadData' not registered.",
     "output_type": "error",
     "traceback": [
      "\u001b[1;31m---------------------------------------------------------------------------\u001b[0m",
      "\u001b[1;31mValueError\u001b[0m                                Traceback (most recent call last)",
      "Cell \u001b[1;32mIn[4], line 5\u001b[0m\n\u001b[0;32m      3\u001b[0m \u001b[38;5;66;03m# Run the pipeline\u001b[39;00m\n\u001b[0;32m      4\u001b[0m \u001b[38;5;28mprint\u001b[39m(\u001b[38;5;124m\"\u001b[39m\u001b[38;5;124mRunning the pilot preprocessing pipeline...\u001b[39m\u001b[38;5;124m\"\u001b[39m)\n\u001b[1;32m----> 5\u001b[0m \u001b[43mpipeline\u001b[49m\u001b[38;5;241;43m.\u001b[39;49m\u001b[43mrun\u001b[49m\u001b[43m(\u001b[49m\u001b[43m)\u001b[49m\n\u001b[0;32m      6\u001b[0m \u001b[38;5;28mprint\u001b[39m(\u001b[38;5;124m\"\u001b[39m\u001b[38;5;124mPipeline completed successfully.\u001b[39m\u001b[38;5;124m\"\u001b[39m)\n",
      "File \u001b[1;32me:\\Yann\\neuropipe\\scr\\pipeline.py:155\u001b[0m, in \u001b[0;36mPipeline.run\u001b[1;34m(self)\u001b[0m\n\u001b[0;32m    150\u001b[0m             step_info[\u001b[38;5;124m\"\u001b[39m\u001b[38;5;124mparams\u001b[39m\u001b[38;5;124m\"\u001b[39m][\u001b[38;5;124m\"\u001b[39m\u001b[38;5;124moutput_folder\u001b[39m\u001b[38;5;124m\"\u001b[39m] \u001b[38;5;241m=\u001b[39m \u001b[38;5;28mself\u001b[39m\u001b[38;5;241m.\u001b[39m_adjust_output_path(\n\u001b[0;32m    151\u001b[0m                 step_info[\u001b[38;5;124m\"\u001b[39m\u001b[38;5;124mparams\u001b[39m\u001b[38;5;124m\"\u001b[39m][\u001b[38;5;124m\"\u001b[39m\u001b[38;5;124moutput_folder\u001b[39m\u001b[38;5;124m\"\u001b[39m], sub_id, ses_id\n\u001b[0;32m    152\u001b[0m             )\n\u001b[0;32m    154\u001b[0m         \u001b[38;5;66;03m# Run the step\u001b[39;00m\n\u001b[1;32m--> 155\u001b[0m         \u001b[38;5;28;43mself\u001b[39;49m\u001b[38;5;241;43m.\u001b[39;49m\u001b[43m_run_step\u001b[49m\u001b[43m(\u001b[49m\u001b[43mstep_info\u001b[49m\u001b[43m)\u001b[49m\n\u001b[0;32m    157\u001b[0m \u001b[38;5;28mprint\u001b[39m(\u001b[38;5;124m\"\u001b[39m\u001b[38;5;124m[SUCCESS] Pipeline completed (multi-subject).\u001b[39m\u001b[38;5;124m\"\u001b[39m)\n\u001b[0;32m    158\u001b[0m \u001b[38;5;28;01mreturn\u001b[39;00m \u001b[38;5;28;01mNone\u001b[39;00m\n",
      "File \u001b[1;32me:\\Yann\\neuropipe\\scr\\pipeline.py:177\u001b[0m, in \u001b[0;36mPipeline._run_step\u001b[1;34m(self, step_info)\u001b[0m\n\u001b[0;32m    174\u001b[0m params \u001b[38;5;241m=\u001b[39m step_info\u001b[38;5;241m.\u001b[39mget(\u001b[38;5;124m\"\u001b[39m\u001b[38;5;124mparams\u001b[39m\u001b[38;5;124m\"\u001b[39m, {})\n\u001b[0;32m    176\u001b[0m \u001b[38;5;28;01mif\u001b[39;00m step_name \u001b[38;5;129;01mnot\u001b[39;00m \u001b[38;5;129;01min\u001b[39;00m STEP_REGISTRY:\n\u001b[1;32m--> 177\u001b[0m     \u001b[38;5;28;01mraise\u001b[39;00m \u001b[38;5;167;01mValueError\u001b[39;00m(\u001b[38;5;124mf\u001b[39m\u001b[38;5;124m\"\u001b[39m\u001b[38;5;124mStep \u001b[39m\u001b[38;5;124m'\u001b[39m\u001b[38;5;132;01m{\u001b[39;00mstep_name\u001b[38;5;132;01m}\u001b[39;00m\u001b[38;5;124m'\u001b[39m\u001b[38;5;124m not registered.\u001b[39m\u001b[38;5;124m\"\u001b[39m)\n\u001b[0;32m    178\u001b[0m step_class \u001b[38;5;241m=\u001b[39m STEP_REGISTRY[step_name]\n\u001b[0;32m    180\u001b[0m step \u001b[38;5;241m=\u001b[39m step_class(params)\n",
      "\u001b[1;31mValueError\u001b[0m: Step 'LoadData' not registered."
     ]
    }
   ],
   "source": [
    "# Create a Pipeline instance\n",
    "pipeline = Pipeline(config_file=config_file)\n",
    "# Run the pipeline\n",
    "print(\"Running the pilot preprocessing pipeline...\")\n",
    "pipeline.run()\n",
    "print(\"Pipeline completed successfully.\")\n"
   ]
  }
 ],
 "metadata": {
  "kernelspec": {
   "display_name": "neuropipe",
   "language": "python",
   "name": "python3"
  },
  "language_info": {
   "codemirror_mode": {
    "name": "ipython",
    "version": 3
   },
   "file_extension": ".py",
   "mimetype": "text/x-python",
   "name": "python",
   "nbconvert_exporter": "python",
   "pygments_lexer": "ipython3",
   "version": "3.11.11"
  }
 },
 "nbformat": 4,
 "nbformat_minor": 2
}
